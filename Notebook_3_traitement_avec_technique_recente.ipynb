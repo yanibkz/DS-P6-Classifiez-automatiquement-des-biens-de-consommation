{
 "cells": [
  {
   "cell_type": "code",
   "execution_count": 21,
   "id": "37346760",
   "metadata": {},
   "outputs": [],
   "source": [
    "import pandas as pd\n",
    "import numpy as np\n",
    "import tensorflow as tf\n",
    "from tensorflow.keras.preprocessing.image import ImageDataGenerator\n",
    "from tensorflow.keras.models import Sequential\n",
    "from tensorflow.keras.layers import Dense, Flatten\n",
    "from tensorflow.keras.layers import Conv2D, MaxPooling2D\n",
    "from tensorflow.keras.applications.vgg16 import preprocess_input\n",
    "from tensorflow.keras.preprocessing.image import img_to_array\n",
    "from tensorflow.keras.utils import to_categorical\n",
    "from tensorflow.keras.preprocessing.image import load_img\n",
    "from plot_keras_history import show_history, plot_history\n",
    "from tensorflow.keras.layers import GlobalAveragePooling2D\n",
    "from tensorflow.keras.layers import Dropout\n",
    "from tensorflow.keras.callbacks import ModelCheckpoint\n",
    "from tensorflow.keras.callbacks import EarlyStopping\n",
    "from tensorflow.keras.models import Model\n",
    "from tensorflow.keras.applications import VGG16\n"
   ]
  },
  {
   "cell_type": "code",
   "execution_count": 13,
   "id": "cf78d1a5",
   "metadata": {},
   "outputs": [],
   "source": [
    "dfcl = pd.read_csv('dataCNN.csv')"
   ]
  },
  {
   "cell_type": "markdown",
   "id": "c3fa3388",
   "metadata": {},
   "source": [
    "# Data augmentation "
   ]
  },
  {
   "cell_type": "code",
   "execution_count": 15,
   "id": "15de9e96",
   "metadata": {},
   "outputs": [
    {
     "data": {
      "text/html": [
       "<div>\n",
       "<style scoped>\n",
       "    .dataframe tbody tr th:only-of-type {\n",
       "        vertical-align: middle;\n",
       "    }\n",
       "\n",
       "    .dataframe tbody tr th {\n",
       "        vertical-align: top;\n",
       "    }\n",
       "\n",
       "    .dataframe thead th {\n",
       "        text-align: right;\n",
       "    }\n",
       "</style>\n",
       "<table border=\"1\" class=\"dataframe\">\n",
       "  <thead>\n",
       "    <tr style=\"text-align: right;\">\n",
       "      <th></th>\n",
       "      <th>image</th>\n",
       "      <th>subcategory_1</th>\n",
       "      <th>label</th>\n",
       "    </tr>\n",
       "  </thead>\n",
       "  <tbody>\n",
       "    <tr>\n",
       "      <th>0</th>\n",
       "      <td>Images/55b85ea15a1536d46b7190ad6fff8ce7.jpg</td>\n",
       "      <td>Home Furnishing</td>\n",
       "      <td>4</td>\n",
       "    </tr>\n",
       "    <tr>\n",
       "      <th>1</th>\n",
       "      <td>Images/7b72c92c2f6c40268628ec5f14c6d590.jpg</td>\n",
       "      <td>Baby Care</td>\n",
       "      <td>0</td>\n",
       "    </tr>\n",
       "    <tr>\n",
       "      <th>2</th>\n",
       "      <td>Images/64d5d4a258243731dc7bbb1eef49ad74.jpg</td>\n",
       "      <td>Baby Care</td>\n",
       "      <td>0</td>\n",
       "    </tr>\n",
       "    <tr>\n",
       "      <th>3</th>\n",
       "      <td>Images/d4684dcdc759dd9cdf41504698d737d8.jpg</td>\n",
       "      <td>Home Furnishing</td>\n",
       "      <td>4</td>\n",
       "    </tr>\n",
       "    <tr>\n",
       "      <th>4</th>\n",
       "      <td>Images/6325b6870c54cd47be6ebfbffa620ec7.jpg</td>\n",
       "      <td>Home Furnishing</td>\n",
       "      <td>4</td>\n",
       "    </tr>\n",
       "    <tr>\n",
       "      <th>...</th>\n",
       "      <td>...</td>\n",
       "      <td>...</td>\n",
       "      <td>...</td>\n",
       "    </tr>\n",
       "    <tr>\n",
       "      <th>1045</th>\n",
       "      <td>Images/958f54f4c46b53c8a0a9b8167d9140bc.jpg</td>\n",
       "      <td>Baby Care</td>\n",
       "      <td>0</td>\n",
       "    </tr>\n",
       "    <tr>\n",
       "      <th>1046</th>\n",
       "      <td>Images/fd6cbcc22efb6b761bd564c28928483c.jpg</td>\n",
       "      <td>Baby Care</td>\n",
       "      <td>0</td>\n",
       "    </tr>\n",
       "    <tr>\n",
       "      <th>1047</th>\n",
       "      <td>Images/5912e037d12774bb73a2048f35a00009.jpg</td>\n",
       "      <td>Baby Care</td>\n",
       "      <td>0</td>\n",
       "    </tr>\n",
       "    <tr>\n",
       "      <th>1048</th>\n",
       "      <td>Images/c3edc504d1b4f0ba6224fa53a43a7ad6.jpg</td>\n",
       "      <td>Baby Care</td>\n",
       "      <td>0</td>\n",
       "    </tr>\n",
       "    <tr>\n",
       "      <th>1049</th>\n",
       "      <td>Images/f2f027ad6a6df617c9f125173da71e44.jpg</td>\n",
       "      <td>Baby Care</td>\n",
       "      <td>0</td>\n",
       "    </tr>\n",
       "  </tbody>\n",
       "</table>\n",
       "<p>1050 rows × 3 columns</p>\n",
       "</div>"
      ],
      "text/plain": [
       "                                            image    subcategory_1  label\n",
       "0     Images/55b85ea15a1536d46b7190ad6fff8ce7.jpg  Home Furnishing      4\n",
       "1     Images/7b72c92c2f6c40268628ec5f14c6d590.jpg        Baby Care      0\n",
       "2     Images/64d5d4a258243731dc7bbb1eef49ad74.jpg        Baby Care      0\n",
       "3     Images/d4684dcdc759dd9cdf41504698d737d8.jpg  Home Furnishing      4\n",
       "4     Images/6325b6870c54cd47be6ebfbffa620ec7.jpg  Home Furnishing      4\n",
       "...                                           ...              ...    ...\n",
       "1045  Images/958f54f4c46b53c8a0a9b8167d9140bc.jpg        Baby Care      0\n",
       "1046  Images/fd6cbcc22efb6b761bd564c28928483c.jpg        Baby Care      0\n",
       "1047  Images/5912e037d12774bb73a2048f35a00009.jpg        Baby Care      0\n",
       "1048  Images/c3edc504d1b4f0ba6224fa53a43a7ad6.jpg        Baby Care      0\n",
       "1049  Images/f2f027ad6a6df617c9f125173da71e44.jpg        Baby Care      0\n",
       "\n",
       "[1050 rows x 3 columns]"
      ]
     },
     "execution_count": 15,
     "metadata": {},
     "output_type": "execute_result"
    }
   ],
   "source": [
    "dfcl"
   ]
  },
  {
   "cell_type": "code",
   "execution_count": 16,
   "id": "0690ef23",
   "metadata": {},
   "outputs": [],
   "source": [
    "## MODELE"
   ]
  },
  {
   "cell_type": "code",
   "execution_count": 17,
   "id": "7fda7982",
   "metadata": {},
   "outputs": [],
   "source": [
    "def create_model_fct() :\n",
    "    # Récupération modèle pré-entraîné\n",
    "    model0 = VGG16(include_top=False, weights=\"imagenet\", input_shape=(224, 224, 3))\n",
    "\n",
    "    # Layer non entraînables = on garde les poids du modèle pré-entraîné\n",
    "    for layer in model0.layers:\n",
    "        layer.trainable = False\n",
    "\n",
    "    # Récupérer la sortie de ce réseau\n",
    "    x = model0.output\n",
    "    # Compléter le modèle\n",
    "    x = GlobalAveragePooling2D()(x)\n",
    "    x = Dense(256, activation='relu')(x)\n",
    "    x = Dropout(0.5)(x)\n",
    "    predictions = Dense(7, activation='softmax')(x)\n",
    "\n",
    "    # Définir le nouveau modèle\n",
    "    model = Model(inputs=model0.input, outputs=predictions)\n",
    "    # compilation du modèle \n",
    "    model.compile(loss=\"categorical_crossentropy\", optimizer='rmsprop', metrics=[\"accuracy\"])\n",
    "\n",
    "    print(model.summary())\n",
    "    \n",
    "    return model\n",
    "    "
   ]
  },
  {
   "cell_type": "code",
   "execution_count": 18,
   "id": "fb190f75",
   "metadata": {},
   "outputs": [],
   "source": [
    "# Pour mélanger les images, classées initalement par classe\n",
    "data_a = dfcl.sample(frac=1, random_state=42).reset_index(drop=True)"
   ]
  },
  {
   "cell_type": "code",
   "execution_count": 22,
   "id": "0014e4b6",
   "metadata": {},
   "outputs": [
    {
     "name": "stderr",
     "output_type": "stream",
     "text": [
      "C:\\Users\\boukh\\anaconda3\\lib\\site-packages\\PIL\\Image.py:3035: DecompressionBombWarning: Image size (93680328 pixels) exceeds limit of 89478485 pixels, could be decompression bomb DOS attack.\n",
      "  warnings.warn(\n"
     ]
    },
    {
     "name": "stdout",
     "output_type": "stream",
     "text": [
      "(1050, 224, 224, 3)\n",
      "(1050, 224, 224, 3)\n"
     ]
    }
   ],
   "source": [
    "\n",
    "def image_prep_fct(data) :\n",
    "    prepared_images = []\n",
    "    for image_num in range(len(dfcl['image'])) :\n",
    "        img = (load_img(\n",
    "            dfcl['image'][image_num],\n",
    "            target_size=(224, 224)))\n",
    "        img = img_to_array(img)\n",
    "        img = img.reshape((img.shape[0], img.shape[1], img.shape[2]))\n",
    "        img = preprocess_input(img)\n",
    "        prepared_images.append(img)\n",
    "        prepared_images_np = np.array(prepared_images)\n",
    "    return prepared_images_np\n",
    "    \n",
    "images_np = image_prep_fct(dfcl)\n",
    "print(images_np.shape)\n",
    "images_np_test = image_prep_fct(dfcl)\n",
    "print(images_np_test.shape)"
   ]
  },
  {
   "cell_type": "code",
   "execution_count": 23,
   "id": "c6ccc180",
   "metadata": {},
   "outputs": [
    {
     "data": {
      "text/plain": [
       "array([[0., 0., 0., ..., 1., 0., 0.],\n",
       "       [1., 0., 0., ..., 0., 0., 0.],\n",
       "       [1., 0., 0., ..., 0., 0., 0.],\n",
       "       ...,\n",
       "       [1., 0., 0., ..., 0., 0., 0.],\n",
       "       [1., 0., 0., ..., 0., 0., 0.],\n",
       "       [1., 0., 0., ..., 0., 0., 0.]], dtype=float32)"
      ]
     },
     "execution_count": 23,
     "metadata": {},
     "output_type": "execute_result"
    }
   ],
   "source": [
    "\n",
    "\n",
    "\n",
    "X = images_np\n",
    "y = to_categorical(dfcl['label'])\n",
    "\n",
    "X_test = images_np_test\n",
    "y_test = to_categorical(data_test['label'])\n",
    "\n",
    "y"
   ]
  },
  {
   "cell_type": "code",
   "execution_count": 24,
   "id": "13b4d521",
   "metadata": {},
   "outputs": [
    {
     "data": {
      "text/plain": [
       "(787, 224, 224, 3)"
      ]
     },
     "execution_count": 24,
     "metadata": {},
     "output_type": "execute_result"
    }
   ],
   "source": [
    "X_train, X_val, y_train, y_val = train_test_split(X, y, stratify=y, test_size=0.25, random_state=42)\n",
    "X_train.shape"
   ]
  },
  {
   "cell_type": "code",
   "execution_count": 25,
   "id": "9a63974a",
   "metadata": {},
   "outputs": [],
   "source": [
    "batch_size = 32\n",
    "\n",
    "def data_flow_fct(data, datagen, data_type=None) :\n",
    "    data_flow = datagen.flow_from_dataframe(data, directory='',\n",
    "                                x_col='image', y_col='subcategory_1',\n",
    "                                weight_col=None, target_size=(256, 256),\n",
    "                                classes=None, class_mode='categorical',\n",
    "                                batch_size=batch_size, shuffle=True, seed=42,\n",
    "                                subset=data_type\n",
    "                                )\n",
    "    return data_flow"
   ]
  },
  {
   "cell_type": "code",
   "execution_count": 26,
   "id": "0880479f",
   "metadata": {},
   "outputs": [
    {
     "name": "stdout",
     "output_type": "stream",
     "text": [
      "Found 788 validated image filenames belonging to 7 classes.\n",
      "Found 262 validated image filenames belonging to 7 classes.\n",
      "Found 158 validated image filenames belonging to 7 classes.\n"
     ]
    }
   ],
   "source": [
    "\n",
    "\n",
    "\n",
    "datagen_train = ImageDataGenerator(\n",
    "#    featurewise_center=True,\n",
    "#    featurewise_std_normalization=True,\n",
    "    rotation_range=20,\n",
    "    width_shift_range=0.2,\n",
    "    height_shift_range=0.2,\n",
    "    horizontal_flip=True,\n",
    "    validation_split=0.25,\n",
    "    preprocessing_function=preprocess_input)\n",
    "\n",
    "train_flow = data_flow_fct(data_a, datagen_train, data_type='training')\n",
    "val_flow = data_flow_fct(data_a, datagen_train, data_type='validation')\n",
    "\n",
    "datagen_test = ImageDataGenerator(\n",
    "    validation_split=0,\n",
    "    preprocessing_function=preprocess_input)\n",
    "\n",
    "test_flow = data_flow_fct(data_test, datagen_test, data_type=None)\n",
    "\n",
    "# compute quantities required for featurewise normalization\n",
    "# (std, mean, and principal components if ZCA whitening is applied)\n",
    "# datagen.fit(X_train)\n",
    "# fits the model on batches with real-time data augmentation:"
   ]
  },
  {
   "cell_type": "code",
   "execution_count": 29,
   "id": "545f7ec9",
   "metadata": {},
   "outputs": [
    {
     "name": "stdout",
     "output_type": "stream",
     "text": [
      "Model: \"model\"\n",
      "_________________________________________________________________\n",
      " Layer (type)                Output Shape              Param #   \n",
      "=================================================================\n",
      " input_1 (InputLayer)        [(None, 224, 224, 3)]     0         \n",
      "                                                                 \n",
      " block1_conv1 (Conv2D)       (None, 224, 224, 64)      1792      \n",
      "                                                                 \n",
      " block1_conv2 (Conv2D)       (None, 224, 224, 64)      36928     \n",
      "                                                                 \n",
      " block1_pool (MaxPooling2D)  (None, 112, 112, 64)      0         \n",
      "                                                                 \n",
      " block2_conv1 (Conv2D)       (None, 112, 112, 128)     73856     \n",
      "                                                                 \n",
      " block2_conv2 (Conv2D)       (None, 112, 112, 128)     147584    \n",
      "                                                                 \n",
      " block2_pool (MaxPooling2D)  (None, 56, 56, 128)       0         \n",
      "                                                                 \n",
      " block3_conv1 (Conv2D)       (None, 56, 56, 256)       295168    \n",
      "                                                                 \n",
      " block3_conv2 (Conv2D)       (None, 56, 56, 256)       590080    \n",
      "                                                                 \n",
      " block3_conv3 (Conv2D)       (None, 56, 56, 256)       590080    \n",
      "                                                                 \n",
      " block3_pool (MaxPooling2D)  (None, 28, 28, 256)       0         \n",
      "                                                                 \n",
      " block4_conv1 (Conv2D)       (None, 28, 28, 512)       1180160   \n",
      "                                                                 \n",
      " block4_conv2 (Conv2D)       (None, 28, 28, 512)       2359808   \n",
      "                                                                 \n",
      " block4_conv3 (Conv2D)       (None, 28, 28, 512)       2359808   \n",
      "                                                                 \n",
      " block4_pool (MaxPooling2D)  (None, 14, 14, 512)       0         \n",
      "                                                                 \n",
      " block5_conv1 (Conv2D)       (None, 14, 14, 512)       2359808   \n",
      "                                                                 \n",
      " block5_conv2 (Conv2D)       (None, 14, 14, 512)       2359808   \n",
      "                                                                 \n",
      " block5_conv3 (Conv2D)       (None, 14, 14, 512)       2359808   \n",
      "                                                                 \n",
      " block5_pool (MaxPooling2D)  (None, 7, 7, 512)         0         \n",
      "                                                                 \n",
      " global_average_pooling2d (G  (None, 512)              0         \n",
      " lobalAveragePooling2D)                                          \n",
      "                                                                 \n",
      " dense (Dense)               (None, 256)               131328    \n",
      "                                                                 \n",
      " dropout (Dropout)           (None, 256)               0         \n",
      "                                                                 \n",
      " dense_1 (Dense)             (None, 7)                 1799      \n",
      "                                                                 \n",
      "=================================================================\n",
      "Total params: 14,847,815\n",
      "Trainable params: 133,127\n",
      "Non-trainable params: 14,714,688\n",
      "_________________________________________________________________\n",
      "None\n"
     ]
    }
   ],
   "source": [
    "\n",
    "\n",
    "model2 = create_model_fct()\n",
    "\n",
    "# Création du callback\n",
    "model2_save_path = \"./model2_best_weights.h5\"\n",
    "checkpoint = ModelCheckpoint(model2_save_path, monitor='val_loss', verbose=1, save_best_only=True, mode='min')\n",
    "es = EarlyStopping(monitor='val_loss', mode='min', verbose=1, patience=5)\n",
    "callbacks_list = [checkpoint, es]"
   ]
  },
  {
   "cell_type": "code",
   "execution_count": 30,
   "id": "9cb94a11",
   "metadata": {},
   "outputs": [
    {
     "name": "stdout",
     "output_type": "stream",
     "text": [
      "Epoch 1/50\n",
      "13/13 [==============================] - ETA: 0s - loss: 5.0421 - accuracy: 0.4676\n",
      "Epoch 1: val_loss improved from inf to 1.28636, saving model to .\\model2_best_weights.h5\n",
      "13/13 [==============================] - 43s 3s/step - loss: 5.0421 - accuracy: 0.4676 - val_loss: 1.2864 - val_accuracy: 0.7567\n",
      "Epoch 2/50\n",
      "13/13 [==============================] - ETA: 0s - loss: 1.8662 - accuracy: 0.7039\n",
      "Epoch 2: val_loss did not improve from 1.28636\n",
      "13/13 [==============================] - 45s 3s/step - loss: 1.8662 - accuracy: 0.7039 - val_loss: 1.3150 - val_accuracy: 0.7148\n",
      "Epoch 3/50\n",
      "13/13 [==============================] - ETA: 0s - loss: 1.1742 - accuracy: 0.7535\n",
      "Epoch 3: val_loss improved from 1.28636 to 0.97967, saving model to .\\model2_best_weights.h5\n",
      "13/13 [==============================] - 44s 3s/step - loss: 1.1742 - accuracy: 0.7535 - val_loss: 0.9797 - val_accuracy: 0.7909\n",
      "Epoch 4/50\n",
      "13/13 [==============================] - ETA: 0s - loss: 0.8788 - accuracy: 0.7865\n",
      "Epoch 4: val_loss improved from 0.97967 to 0.89597, saving model to .\\model2_best_weights.h5\n",
      "13/13 [==============================] - 44s 3s/step - loss: 0.8788 - accuracy: 0.7865 - val_loss: 0.8960 - val_accuracy: 0.8175\n",
      "Epoch 5/50\n",
      "13/13 [==============================] - ETA: 0s - loss: 0.5822 - accuracy: 0.8501\n",
      "Epoch 5: val_loss did not improve from 0.89597\n",
      "13/13 [==============================] - 43s 3s/step - loss: 0.5822 - accuracy: 0.8501 - val_loss: 0.9176 - val_accuracy: 0.8137\n",
      "Epoch 6/50\n",
      "13/13 [==============================] - ETA: 0s - loss: 0.4624 - accuracy: 0.8691\n",
      "Epoch 6: val_loss did not improve from 0.89597\n",
      "13/13 [==============================] - 44s 3s/step - loss: 0.4624 - accuracy: 0.8691 - val_loss: 0.9940 - val_accuracy: 0.7643\n",
      "Epoch 7/50\n",
      "13/13 [==============================] - ETA: 0s - loss: 0.3914 - accuracy: 0.8831\n",
      "Epoch 7: val_loss did not improve from 0.89597\n",
      "13/13 [==============================] - 43s 3s/step - loss: 0.3914 - accuracy: 0.8831 - val_loss: 0.9123 - val_accuracy: 0.7947\n",
      "Epoch 8/50\n",
      "13/13 [==============================] - ETA: 0s - loss: 0.3484 - accuracy: 0.8945\n",
      "Epoch 8: val_loss did not improve from 0.89597\n",
      "13/13 [==============================] - 44s 3s/step - loss: 0.3484 - accuracy: 0.8945 - val_loss: 1.1372 - val_accuracy: 0.7643\n",
      "Epoch 9/50\n",
      "13/13 [==============================] - ETA: 0s - loss: 0.3321 - accuracy: 0.8971\n",
      "Epoch 9: val_loss did not improve from 0.89597\n",
      "13/13 [==============================] - 43s 3s/step - loss: 0.3321 - accuracy: 0.8971 - val_loss: 0.9894 - val_accuracy: 0.8023\n",
      "Epoch 9: early stopping\n"
     ]
    }
   ],
   "source": [
    "history1 = model2.fit(X_train, y_train, epochs=50, batch_size=64, \n",
    "                       callbacks=callbacks_list, validation_data=(X_val, y_val), verbose=1)\n"
   ]
  },
  {
   "cell_type": "code",
   "execution_count": 31,
   "id": "7265b2a6",
   "metadata": {},
   "outputs": [
    {
     "name": "stdout",
     "output_type": "stream",
     "text": [
      "25/25 [==============================] - 45s 2s/step - loss: 0.4384 - accuracy: 0.8642\n",
      "Training Accuracy   : 0.8642\n",
      "\n",
      "2/9 [=====>........................] - ETA: 12s - loss: 0.3596 - accuracy: 0.8750"
     ]
    },
    {
     "name": "stderr",
     "output_type": "stream",
     "text": [
      "C:\\Users\\boukh\\anaconda3\\lib\\site-packages\\PIL\\Image.py:3035: DecompressionBombWarning: Image size (93680328 pixels) exceeds limit of 89478485 pixels, could be decompression bomb DOS attack.\n",
      "  warnings.warn(\n"
     ]
    },
    {
     "name": "stdout",
     "output_type": "stream",
     "text": [
      "9/9 [==============================] - 16s 2s/step - loss: 0.3626 - accuracy: 0.8740\n",
      "Validation Accuracy :  0.8740\n"
     ]
    }
   ],
   "source": [
    "# Score du dernier epoch\n",
    "\n",
    "loss, accuracy = model2.evaluate(train_flow, verbose=True)\n",
    "print(\"Training Accuracy   : {:.4f}\".format(accuracy))\n",
    "print()\n",
    "loss, accuracy = model2.evaluate(val_flow, verbose=True)\n",
    "print(\"Validation Accuracy :  {:.4f}\".format(accuracy))"
   ]
  },
  {
   "cell_type": "code",
   "execution_count": 32,
   "id": "1a520b59",
   "metadata": {},
   "outputs": [
    {
     "name": "stdout",
     "output_type": "stream",
     "text": [
      "Validation Accuracy :  0.8511\n",
      "Test Accuracy       :  0.9177\n"
     ]
    }
   ],
   "source": [
    "# Score de l'epoch optimal\n",
    "\n",
    "model2.load_weights(model2_save_path)\n",
    "\n",
    "loss, accuracy = model2.evaluate(val_flow, verbose=False)\n",
    "print(\"Validation Accuracy :  {:.4f}\".format(accuracy))\n",
    "\n",
    "loss, accuracy = model2.evaluate(test_flow, verbose=False)\n",
    "print(\"Test Accuracy       :  {:.4f}\".format(accuracy))\n"
   ]
  },
  {
   "cell_type": "code",
   "execution_count": 33,
   "id": "adf4a8f1",
   "metadata": {},
   "outputs": [
    {
     "data": {
      "text/html": [
       "\n",
       "        <style>\n",
       "            .support_message_main_box {\n",
       "                position: relative;\n",
       "                display: table-cell;\n",
       "                vertical-align: middle;\n",
       "                width: 100%;\n",
       "                height: 8em;\n",
       "                padding: 1em;\n",
       "                padding-left: 11em;\n",
       "                background-color: #f7f7f7;\n",
       "                border: 1px solid #cfcfcf;\n",
       "                border-radius: 2px;\n",
       "            }\n",
       "            .support_message_main_box img {\n",
       "                position: absolute;\n",
       "                height: 9em;\n",
       "                width: 9em;\n",
       "                left: 0.5em;\n",
       "                top: 0.5em;\n",
       "                border-radius: 1em;\n",
       "            }\n",
       "        </style>\n",
       "        <div class=\"support_message_main_box\">\n",
       "            <img src=\"https://avatars.githubusercontent.com/u/7738570?v=4\" />\n",
       "            <p>\n",
       "            <b>Hi!</b><br/>\n",
       "            <span>I am the author of\n",
       "            <a href=\"https://github.com/LucaCappelletti94/plot_keras_history\" target=\"_blank\">\n",
       "                plot_keras_history\n",
       "            </a>, which you use in this Notebook.\n",
       "            </span><br/>\n",
       "            \n",
       "            <span>I love to code, but I also need coffee.</span>\n",
       "            <a href=\"https://github.com/sponsors/LucaCappelletti94\" target=\"_blank\">\n",
       "                Please sponsor me on GitHub ❤️\n",
       "            </a><br/>\n",
       "            <i>Good luck in your coding 🍀!</i>\n",
       "            <br/>\n",
       "            <i>- Luca</i>\n",
       "            </p>\n",
       "        <div>\n",
       "        "
      ],
      "text/plain": [
       "<IPython.core.display.HTML object>"
      ]
     },
     "metadata": {},
     "output_type": "display_data"
    },
    {
     "data": {
      "image/png": "[encoded data removed]",
      "text/plain": [
       "<Figure size 1000x500 with 2 Axes>"
      ]
     },
     "metadata": {},
     "output_type": "display_data"
    }
   ],
   "source": [
    "\n",
    "show_history(history1)\n",
    "plot_history(history1, path=\"standard.png\")\n",
    "plt.close()"
   ]
  },
  {
   "cell_type": "code",
   "execution_count": null,
   "id": "a2f4eb90",
   "metadata": {},
   "outputs": [],
   "source": []
  },
  {
   "cell_type": "code",
   "execution_count": null,
   "id": "542e6153",
   "metadata": {},
   "outputs": [],
   "source": []
  },
  {
   "cell_type": "markdown",
   "id": "55795a08",
   "metadata": {},
   "source": [
    "# Conclusion "
   ]
  },
  {
   "cell_type": "markdown",
   "id": "6623dd54",
   "metadata": {},
   "source": [
    "Le moteur de classification est possible.\n",
    "Les résultats du score ARI démontre de meilleur résultat pour une approche avec les algorithmes Tf-idf + CNN.\n",
    "Concernant la classification supervisée et le data augmentation. Un meilleur pourcentage de validation apparaît pour la data augmentation.\n",
    "Piste améliorations : affiner les hyperparametres, ajout de nouvelle données par l'entrepris"
   ]
  },
  {
   "cell_type": "code",
   "execution_count": null,
   "id": "ff265049",
   "metadata": {},
   "outputs": [],
   "source": []
  }
 ],
 "metadata": {
  "kernelspec": {
   "display_name": "Python 3 (ipykernel)",
   "language": "python",
   "name": "python3"
  },
  "language_info": {
   "codemirror_mode": {
    "name": "ipython",
    "version": 3
   },
   "file_extension": ".py",
   "mimetype": "text/x-python",
   "name": "python",
   "nbconvert_exporter": "python",
   "pygments_lexer": "ipython3",
   "version": "3.9.13"
  }
 },
 "nbformat": 4,
 "nbformat_minor": 5
}
